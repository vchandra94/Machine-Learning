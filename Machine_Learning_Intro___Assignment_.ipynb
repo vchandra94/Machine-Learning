{
  "nbformat": 4,
  "nbformat_minor": 0,
  "metadata": {
    "colab": {
      "provenance": []
    },
    "kernelspec": {
      "name": "python3",
      "display_name": "Python 3"
    },
    "language_info": {
      "name": "python"
    }
  },
  "cells": [
    {
      "cell_type": "markdown",
      "source": [
        "**Question 1: Explain the differences between AI, ML, Deep Learning (DL), and Data Science (DS).**\n",
        "\n",
        "**Answer-1)**\n",
        "\n",
        "Think of AI, ML, DL, and DS as a set of nested Russian dolls, with AI being the largest and DL being the smallest, but with Data Science as a separate, overlapping field.\n",
        "\n",
        "1. Artificial Intelligence (AI)\n",
        "\n",
        "Definition: AI is the broadest concept. It refers to machines or software that can perform tasks that usually require human intelligence, such as reasoning, problem-solving, understanding language, and decision-making.\n",
        "\n",
        "Scope: Anything that makes a computer \"smart,\" from rule-based systems to advanced neural networks.\n",
        "\n",
        "Example: A chess-playing program, a virtual assistant like Siri or Alexa.\n",
        "\n",
        "2. Machine Learning (ML)\n",
        "\n",
        "Definition: ML is a subset of AI. Instead of explicitly programming rules, ML systems learn patterns from data and improve their performance with experience.\n",
        "\n",
        "How it works: Algorithms find relationships in data and make predictions or classifications.\n",
        "\n",
        "Example: Spam email detection, recommendation systems (Netflix, YouTube).\n",
        "\n",
        "3. Deep Learning (DL)\n",
        "\n",
        "Definition: DL is a subset of ML that uses artificial neural networks with many layers (hence “deep”).\n",
        "\n",
        "Specialty: It excels at handling large amounts of unstructured data (like images, speech, text).\n",
        "\n",
        "Example: Image recognition (face detection), self-driving cars, ChatGPT (me!) uses DL models.\n",
        "\n",
        "4. Data Science (DS)\n",
        "\n",
        "Definition: Data Science is the broader interdisciplinary field focused on extracting insights and knowledge from data. It uses statistics, programming, visualization, and ML/DL as tools.\n",
        "\n",
        "Scope: Encompasses data collection, cleaning, analysis, visualization, and building predictive models.\n",
        "\n",
        "Example: A data scientist analyzing customer purchase data to improve sales strategy.\n",
        "\n",
        "\n",
        "Relationship Summary\n",
        "\n",
        "1. AI: The broad goal – machines acting smart.\n",
        "\n",
        "2. ML: A way to achieve AI – learning from data.\n",
        "\n",
        "3. DL: A specialized, advanced form of ML – neural networks with many layers.\n",
        "\n",
        "4. DS: The practical field of working with data – may use AI/ML/DL along with statistics and domain knowledge.\n",
        "\n",
        "\n",
        "Think of it like this analogy:\n",
        "\n",
        "1. AI = The concept of building smart robots.\n",
        "\n",
        "2. ML = Teaching robots by giving them data instead of rules.\n",
        "\n",
        "3. DL = Giving robots a “brain” that learns from massive data (like human neurons).\n",
        "\n",
        "4. DS = The scientist who studies and interprets data to make decisions, sometimes using AI/ML/DL."
      ],
      "metadata": {
        "id": "gGLLLk1XewYA"
      }
    },
    {
      "cell_type": "markdown",
      "source": [
        "**Question 2: What are the types of machine learning? Describe each with one real-world example.**\n",
        "\n",
        "**Answer-2)**\n",
        "\n",
        "Machine learning models can be categorized into three main types based on how they learn: supervised learning, unsupervised learning, and reinforcement learning.\n",
        "\n",
        "1. **Supervised Learning**\n",
        "In supervised learning, the model learns from a labeled dataset, which means the data includes both the input features and the corresponding correct output or \"label.\" It's like a student learning with a teacher; the algorithm is provided with the answer key and learns to map the input to the correct output. The goal is for the model to predict the output for new, unseen data accurately.\n",
        "\n",
        "    Example: A spam filter is a classic example. You train the model on a large dataset of emails, where each email is labeled as \"spam\" or \"not spam.\" The model learns the patterns and features (like certain words, sender addresses, or phrases) that are associated with spam. Once trained, it can then classify a new, incoming email as spam or not spam.\n",
        "\n",
        "2. **Unsupervised Learning**\n",
        "Unsupervised learning uses an unlabeled dataset, meaning there's no pre-defined correct output. The model must find hidden patterns, structures, and relationships within the data on its own. It's like giving a student a bunch of objects and asking them to sort them into groups without any instructions. The model's job is to discover the underlying structure of the data.\n",
        "\n",
        "    Example: Customer segmentation is a common use case. A company can use unsupervised learning to analyze customer data (like purchasing history, browsing behavior, or demographics) and automatically group customers into distinct segments. This helps the company identify different customer types, such as \"high-spenders\" or \"frequent buyers,\" to better target them with marketing campaigns.\n",
        "\n",
        "\n",
        "3. **Reinforcement Learning**\n",
        "Reinforcement learning involves an agent learning to make decisions by taking actions in an environment to maximize a \"reward.\" The agent receives positive feedback for good actions and negative feedback (or a \"penalty\") for bad ones. It learns through a process of trial and error, without being explicitly told what to do. The goal is for the agent to find the best sequence of actions to achieve its goal.\n",
        "\n",
        "    Example: Training an AI to play a video game is a perfect illustration. The AI agent, for instance, in a game of chess, is rewarded for actions that lead to a win (like capturing an opponent's piece) and penalized for losing. It learns the optimal strategies and moves through repeated play and feedback, eventually becoming an expert player.\n",
        "\n"
      ],
      "metadata": {
        "id": "aWR8FWxtf_3L"
      }
    },
    {
      "cell_type": "markdown",
      "source": [
        "**Question 3: Define overfitting, underfitting, and the bias-variance tradeoff in machine learning.**\n",
        "\n",
        "\n",
        "**Answer-3)**\n",
        "\n",
        "These are fundamental concepts in machine learning model performance. Let’s go step by step:\n",
        "\n",
        "1. Overfitting\n",
        "\n",
        "    Definition: When a model learns too much from training data, including noise **bold text**and random fluctuations, instead of the true underlying patterns.\n",
        "\n",
        "    Effect: Performs very well on training data but poorly on new/unseen data (low generalization).\n",
        "\n",
        "    Analogy: Like memorizing answers for an exam instead of understanding the concepts.\n",
        "\n",
        "    Example: A decision tree that keeps splitting until it perfectly classifies training data but fails badly on test data.\n",
        "\n",
        "\n",
        "2. ** Underfitting**\n",
        "\n",
        "    Definition: When a model is too simple to capture the underlying structure of the data.\n",
        "\n",
        "    Effect: Performs poorly on both training and test data.\n",
        "\n",
        "    Analogy: Like using just one formula for all math problems—it’s too simplistic.\n",
        "\n",
        "    Example: Using a straight line (linear regression) to model highly nonlinear data.\n",
        "\n",
        "\n",
        "3. **Bias-Variance Tradeoff**\n",
        "\n",
        "    Bias: Error due to wrong assumptions or oversimplification in the model (e.g., assuming data is linear when it’s not). → Leads to underfitting.\n",
        "\n",
        "    Variance: Error due to model complexity and sensitivity to training data (small changes in data cause big changes in predictions). → Leads to overfitting.\n",
        "\n",
        "    Tradeoff:\n",
        "\n",
        "    High bias = underfitting (too simple).\n",
        "\n",
        "    High variance = overfitting (too complex).\n",
        "\n",
        "    The goal is to find the sweet spot where both bias and variance are balanced for best generalization."
      ],
      "metadata": {
        "id": "HvdnMdU7hFC5"
      }
    },
    {
      "cell_type": "markdown",
      "source": [
        "**Question 4: What are outliers in a dataset, and list three common techniques for handling them.**\n",
        "\n",
        "**Answer-4)**\n",
        "\n",
        "An outlier is a data point in a dataset that is significantly different from other observations. It's an extreme value that lies far outside the general pattern of the data. Outliers can be caused by data entry errors, measurement mistakes, or genuine but rare events, and they can skew statistical analysis and negatively impact the performance of machine learning models.\n",
        "\n",
        "**Three Common Techniques for Handling Outliers**\n",
        "\n",
        "1. **Removal (Deletion)**\n",
        "\n",
        "    Idea: Simply remove the extreme values if they are due to errors or not relevant.\n",
        "\n",
        "    Use Case: Only when outliers are clearly mistakes (e.g., negative age).\n",
        "\n",
        "    Example: Removing 400 cm height from the dataset.\n",
        "\n",
        "\n",
        "2. **Transformation (Reducing Impact)**\n",
        "\n",
        "    Idea: Apply mathematical transformations to reduce the effect of extreme values.\n",
        "\n",
        "    Common Methods:\n",
        "\n",
        "    1. Log transformation\n",
        "\n",
        "    2. Square root transformation\n",
        "\n",
        "    3. Winsorizing (capping values at a threshold)\n",
        "\n",
        "    Example: Using log-scale on income data to handle extreme millionaire values.\n",
        "\n",
        "\n",
        "3. **Imputation / Replacement**\n",
        "\n",
        "    Idea: Replace outliers with more reasonable values.\n",
        "\n",
        "    Techniques:\n",
        "\n",
        "    1. Replace with median or mean of the feature\n",
        "\n",
        "    2. Replace with nearest neighbor value\n",
        "\n",
        "    Example: Replacing an outlier salary of 10,000,000 with the median salary of the dataset.\n",
        "\n"
      ],
      "metadata": {
        "id": "p0TyhQAbiFDE"
      }
    },
    {
      "cell_type": "markdown",
      "source": [
        "**Question 5: Explain the process of handling missing values and mention one imputation technique for numerical and one for categorical data.**\n",
        "\n",
        "**Answer-5)**\n",
        "\n",
        "Handling missing values is a crucial step in data preprocessing to ensure that the dataset is complete and ready for analysis or model training. Missing data, often represented as NaN (Not a Number) or null, can lead to biased results and errors in machine learning models.\n",
        "\n",
        "**Process for Handling Missing Values**\n",
        "\n",
        "The process typically involves these steps:\n",
        "\n",
        "1. Identify Missing Values: The first step is to check for and count the missing values in each column of the dataset. This helps you understand the extent of the problem and the type of data (numerical, categorical, etc.) that's missing.\n",
        "\n",
        "2. Determine the Reason for Missingness: It's important to understand why the data is missing. Is it Missing Completely at Random (MCAR), where the missingness has no relationship with any other variable? Or is it Missing at Random (MAR), where the missingness is related to other observed variables? Or is it Missing Not at Random (MNAR), where the missingness is related to the value of the variable itself? The reason for missing data can influence the choice of the handling method.\n",
        "\n",
        "3. Choose a Handling Strategy: Based on the type of data and the reason for missingness, you can decide on the best approach.\n",
        "\n",
        "    1. Deletion: You can remove rows or columns with missing values. This is simple but can lead to a significant loss of information and introduce bias, especially if a large portion of the data is missing. It's generally only recommended if the number of missing values is very small or if a whole column is largely empty.\n",
        "\n",
        "    2. Imputation: This involves filling in the missing values with a substitute value. This is the most common approach as it retains the data points and the information they contain.\n",
        "\n",
        "\n",
        "**Imputation Techniques**\n",
        "\n",
        "Numerical Data Imputation: Mean/Median Imputation 🔢\n",
        "\n",
        "For numerical data, mean or median imputation is a simple and effective technique. This involves replacing the missing values in a column with the mean or median of the non-missing values in that same column.\n",
        "\n",
        "1. Mean imputation is suitable for data that is normally distributed with no significant outliers.\n",
        "\n",
        "2. Median imputation is more robust to outliers and is a better choice for skewed data since the median isn't affected by extreme values.\n",
        "\n",
        "**Categorical Data Imputation: Mode Imputation**\n",
        "\n",
        "For categorical data, mode imputation is a commonly used technique. This involves replacing the missing values with the most frequent category in that column.\n",
        "\n",
        "This technique is straightforward and works well when the categorical variable has a clear majority class. However, if the missing data is not at random, this method can introduce bias by over-representing the most frequent category."
      ],
      "metadata": {
        "id": "UqV_Pq0ZkAX-"
      }
    },
    {
      "cell_type": "code",
      "execution_count": 1,
      "metadata": {
        "colab": {
          "base_uri": "https://localhost:8080/"
        },
        "id": "BuvRbmMUee5v",
        "outputId": "deedc979-a2b6-48a6-bea6-72b64ded9d23"
      },
      "outputs": [
        {
          "output_type": "stream",
          "name": "stdout",
          "text": [
            "Class distribution: Counter({np.int64(0): 896, np.int64(1): 104})\n",
            "Class 0: 896 samples (89.60%)\n",
            "Class 1: 104 samples (10.40%)\n"
          ]
        }
      ],
      "source": [
        "\"\"\"\n",
        "Question-6)\n",
        "\n",
        "Write a Python program that:\n",
        "1.Creates a synthetic imbalanced dataset with make_classification() from sklearn.datasets.\n",
        "2.Prints the class distribution.\n",
        "\n",
        "\n",
        "Answer-6)\n",
        "\"\"\"\n",
        "\n",
        "from sklearn.datasets import make_classification\n",
        "import numpy as np\n",
        "from collections import Counter\n",
        "\n",
        "# Step 1: Create a synthetic imbalanced dataset\n",
        "X, y = make_classification(n_samples=1000,       # total samples\n",
        "                           n_features=10,        # number of features\n",
        "                           n_informative=5,      # number of informative features\n",
        "                           n_redundant=2,        # number of redundant features\n",
        "                           n_clusters_per_class=1,\n",
        "                           weights=[0.9, 0.1],   # imbalance ratio (90% vs 10%)\n",
        "                           random_state=42)\n",
        "\n",
        "# Step 2: Print the class distribution\n",
        "class_counts = Counter(y)\n",
        "print(\"Class distribution:\", class_counts)\n",
        "\n",
        "# Optionally, calculate percentages\n",
        "total = len(y)\n",
        "for label, count in class_counts.items():\n",
        "    print(f\"Class {label}: {count} samples ({(count/total)*100:.2f}%)\")"
      ]
    },
    {
      "cell_type": "code",
      "source": [
        "\"\"\"\n",
        "Question-7)\n",
        "\n",
        "Implement one-hot encoding using pandas for the following list of colors:\n",
        "['Red', 'Green', 'Blue', 'Green', 'Red']. Print the resulting dataframe.\n",
        "\n",
        "Answer-7)\n",
        "\n",
        "\"\"\"\n",
        "\n",
        "import pandas as pd\n",
        "\n",
        "# Define the list of colors\n",
        "colors = ['Red', 'Green', 'Blue', 'Green', 'Red']\n",
        "\n",
        "# Create a pandas Series from the list of colors\n",
        "colors_series = pd.Series(colors)\n",
        "\n",
        "# Perform one-hot encoding using get_dummies()\n",
        "one_hot_encoded_df = pd.get_dummies(colors_series, prefix='color')\n",
        "\n",
        "# Print the resulting DataFrame\n",
        "print(\"Original list of colors:\")\n",
        "print(colors)\n",
        "print(\"\\nDataFrame after one-hot encoding:\")\n",
        "print(one_hot_encoded_df)\n"
      ],
      "metadata": {
        "colab": {
          "base_uri": "https://localhost:8080/"
        },
        "id": "-lbtc9lImKbU",
        "outputId": "79ece57d-b7a9-4494-c688-0d5dab75947e"
      },
      "execution_count": 5,
      "outputs": [
        {
          "output_type": "stream",
          "name": "stdout",
          "text": [
            "Original list of colors:\n",
            "['Red', 'Green', 'Blue', 'Green', 'Red']\n",
            "\n",
            "DataFrame after one-hot encoding:\n",
            "   color_Blue  color_Green  color_Red\n",
            "0       False        False       True\n",
            "1       False         True      False\n",
            "2        True        False      False\n",
            "3       False         True      False\n",
            "4       False        False       True\n"
          ]
        }
      ]
    },
    {
      "cell_type": "code",
      "source": [
        "\"\"\"\n",
        "Question-8)\n",
        "\n",
        "Write a Python script to:\n",
        "● Generate 1000 samples from a normal distribution.\n",
        "● Introduce 50 random missing values.\n",
        "● Fill missing values with the column mean.\n",
        "● Plot a histogram before and after imputation.\n",
        "\n",
        "Answer-8)\n",
        "\"\"\"\n",
        "\n",
        "import numpy as np\n",
        "import matplotlib.pyplot as plt\n",
        "\n",
        "# 1. Generate 1000 samples from a normal distribution\n",
        "np.random.seed(42)  # for reproducibility\n",
        "data = np.random.normal(loc=50, scale=10, size=1000)\n",
        "\n",
        "# Create a copy to introduce missing values\n",
        "data_with_nan = data.copy()\n",
        "\n",
        "# 2. Introduce 50 random missing values\n",
        "num_missing = 50\n",
        "missing_indices = np.random.choice(len(data_with_nan), size=num_missing, replace=False)\n",
        "data_with_nan[missing_indices] = np.nan\n",
        "\n",
        "# 3. Fill missing values with the column mean\n",
        "# Calculate the mean of the non-missing values\n",
        "mean_value = np.nanmean(data_with_nan)\n",
        "# Create a new array to store the imputed data\n",
        "imputed_data = np.nan_to_num(data_with_nan, nan=mean_value)\n",
        "\n",
        "# 4. Plot histograms before and after imputation\n",
        "plt.figure(figsize=(12, 6))\n",
        "\n",
        "# Histogram before imputation\n",
        "plt.subplot(1, 2, 1)\n",
        "plt.hist(data_with_nan, bins=30, color='skyblue', edgecolor='black')\n",
        "plt.title('Distribution Before Imputation')\n",
        "plt.xlabel('Value')\n",
        "plt.ylabel('Frequency')\n",
        "\n",
        "# Histogram after imputation\n",
        "plt.subplot(1, 2, 2)\n",
        "plt.hist(imputed_data, bins=30, color='lightgreen', edgecolor='black')\n",
        "plt.title('Distribution After Imputation')\n",
        "plt.xlabel('Value')\n",
        "plt.ylabel('Frequency')\n",
        "\n",
        "plt.tight_layout()\n",
        "plt.show()"
      ],
      "metadata": {
        "colab": {
          "base_uri": "https://localhost:8080/",
          "height": 607
        },
        "id": "y50uueNEmuu7",
        "outputId": "f626191d-dec1-4f21-dd79-0a960a80ed8a"
      },
      "execution_count": 7,
      "outputs": [
        {
          "output_type": "display_data",
          "data": {
            "text/plain": [
              "<Figure size 1200x600 with 2 Axes>"
            ],
            "image/png": "[encoded data removed]"
          },
          "metadata": {}
        }
      ]
    },
    {
      "cell_type": "code",
      "source": [
        "\"\"\"\n",
        "Questioon-9)\n",
        "\n",
        "Implement Min-Max scaling on the following list of numbers [2, 5, 10, 15, 20] using sklearn.preprocessing.MinMaxScaler. Print the scaled array.\n",
        "\n",
        "Answer-9)\n",
        "\n",
        "\"\"\"\n",
        "\n",
        "import numpy as np\n",
        "from sklearn.preprocessing import MinMaxScaler\n",
        "\n",
        "# The list of numbers to be scaled\n",
        "data = np.array([2, 5, 10, 15, 20]).reshape(-1, 1)\n",
        "\n",
        "# Create a MinMaxScaler object\n",
        "scaler = MinMaxScaler()\n",
        "\n",
        "# Fit the scaler to the data and transform it\n",
        "scaled_data = scaler.fit_transform(data)\n",
        "\n",
        "# Print the resulting scaled array\n",
        "print(\"Original data:\", data.flatten())\n",
        "print(\"Scaled data:\", scaled_data.flatten())"
      ],
      "metadata": {
        "colab": {
          "base_uri": "https://localhost:8080/"
        },
        "id": "JnFTbasLn-uF",
        "outputId": "6c16edf2-c99c-42df-9d38-5611764302a7"
      },
      "execution_count": 10,
      "outputs": [
        {
          "output_type": "stream",
          "name": "stdout",
          "text": [
            "Original data: [ 2  5 10 15 20]\n",
            "Scaled data: [0.         0.16666667 0.44444444 0.72222222 1.        ]\n"
          ]
        }
      ]
    },
    {
      "cell_type": "markdown",
      "source": [
        "**Question-10)**\n",
        "\n",
        "You are working as a data scientist for a retail company. You receive a customer transaction dataset that contains:\n",
        "● Missing ages,\n",
        "● Outliers in transaction amount,\n",
        "● A highly imbalanced target (fraud vs. non-fraud),\n",
        "● Categorical variables like payment method.\n",
        "\n",
        "Explain the step-by-step data preparation plan you’d follow before training a machine learning model.\n",
        "Include how you’d address missing data, outliers, imbalance, and encoding.\n",
        "\n",
        "\n",
        "**Answer-10)**\n",
        "\n",
        "Data preparation is a critical first step in the machine learning workflow. Here's a step-by-step plan for preparing the customer transaction dataset.\n",
        "\n",
        "1. **Handling Missing Data (Missing Ages)**\n",
        "\n",
        "    Missing data can cause issues with model training, so it's important to handle it appropriately.\n",
        "\n",
        "    Initial Analysis: First, I'd quantify the extent of the missing data. I'd calculate the percentage of missing values for the 'age' column. If the percentage is small (e.g., < 5%), I might consider dropping the rows. However, for a high-level retail dataset, age is a useful feature, so imputation is a better choice.\n",
        "\n",
        "    Imputation Strategy: For a numerical variable like age, I'd use imputation. A simple approach is to impute with the median, which is more robust to outliers than the mean. A more sophisticated method would be to use a K-Nearest Neighbors (KNN) or a regression model to predict the missing values based on other features like customer's tenure, location, or transaction history.\n",
        "\n",
        "**Python Cod:-**"
      ],
      "metadata": {
        "id": "q07pQnfVrPjp"
      }
    },
    {
      "cell_type": "code",
      "source": [
        "# 1. Handling Missing Data (Missing Ages)\n",
        "\n",
        "import pandas as pd\n",
        "import numpy as np\n",
        "from sklearn.impute import KNNImputer\n",
        "\n",
        "# Sample Data\n",
        "data = {'transaction_id': [1, 2, 3, 4, 5],\n",
        "        'age': [25, np.nan, 32, 45, np.nan],\n",
        "        'transaction_amount': [100, 250, 500, 75, 1200]}\n",
        "df = pd.DataFrame(data)\n",
        "\n",
        "# Option 1: Impute with Median\n",
        "median_age = df['age'].median()\n",
        "df['age'].fillna(median_age, inplace=True)\n",
        "print(\"After median imputation:\\n\", df)\n",
        "\n",
        "# Option 2: Impute with KNNImputer (more advanced)\n",
        "# Reset the data for a clean demonstration\n",
        "df = pd.DataFrame(data)\n",
        "imputer = KNNImputer(n_neighbors=2)\n",
        "df['age'] = imputer.fit_transform(df[['age', 'transaction_amount']])[:, 0]\n",
        "print(\"\\nAfter KNN imputation:\\n\", df)"
      ],
      "metadata": {
        "colab": {
          "base_uri": "https://localhost:8080/"
        },
        "id": "32tksF0xqzRZ",
        "outputId": "7233553c-5f62-473b-df0d-2d31cdfa504c"
      },
      "execution_count": 17,
      "outputs": [
        {
          "output_type": "stream",
          "name": "stdout",
          "text": [
            "After median imputation:\n",
            "    transaction_id   age  transaction_amount\n",
            "0               1  25.0                 100\n",
            "1               2  32.0                 250\n",
            "2               3  32.0                 500\n",
            "3               4  45.0                  75\n",
            "4               5  32.0                1200\n",
            "\n",
            "After KNN imputation:\n",
            "    transaction_id   age  transaction_amount\n",
            "0               1  25.0                 100\n",
            "1               2  35.0                 250\n",
            "2               3  32.0                 500\n",
            "3               4  45.0                  75\n",
            "4               5  28.5                1200\n"
          ]
        },
        {
          "output_type": "stream",
          "name": "stderr",
          "text": [
            "/tmp/ipython-input-23088162.py:13: FutureWarning: A value is trying to be set on a copy of a DataFrame or Series through chained assignment using an inplace method.\n",
            "The behavior will change in pandas 3.0. This inplace method will never work because the intermediate object on which we are setting values always behaves as a copy.\n",
            "\n",
            "For example, when doing 'df[col].method(value, inplace=True)', try using 'df.method({col: value}, inplace=True)' or df[col] = df[col].method(value) instead, to perform the operation inplace on the original object.\n",
            "\n",
            "\n",
            "  df['age'].fillna(median_age, inplace=True)\n"
          ]
        }
      ]
    },
    {
      "cell_type": "markdown",
      "source": [
        "2. **Handling Outliers (Transaction Amount)**\n",
        "\n",
        "    Outliers can skew the model's performance and lead to poor generalization.\n",
        "\n",
        "    Detection: I'd visualize the distribution of the 'transaction_amount' using a box plot or a histogram to identify potential outliers. I'd also use a statistical method like the Interquartile Range (IQR) to define a range for normal values. Any value outside of [Q1−1.5⋅IQR, Q3+1.5⋅IQR] is considered an outlier.\n",
        "\n",
        "    Treatment: Once identified, I'd decide how to treat them. A common method is capping or winsorizing, where outliers are replaced with the maximum or minimum non-outlier value. Another approach is to simply drop them, but only if they are clearly erroneous and don't represent a significant portion of the data. Capping is often preferred as it retains the data.\n",
        "\n",
        "**Python Cod:-**"
      ],
      "metadata": {
        "id": "JVNCf3f8sIb1"
      }
    },
    {
      "cell_type": "code",
      "source": [
        "# 2. Handling Outliers (Transaction Amount)\n",
        "\n",
        "import numpy as np\n",
        "\n",
        "# Let's use the initial dataframe\n",
        "df = pd.DataFrame(data)\n",
        "df['transaction_amount'] = [100, 250, 500, 75, 1200]\n",
        "\n",
        "# Calculate IQR\n",
        "Q1 = df['transaction_amount'].quantile(0.25)\n",
        "Q3 = df['transaction_amount'].quantile(0.75)\n",
        "IQR = Q3 - Q1\n",
        "\n",
        "# Define outlier bounds\n",
        "lower_bound = Q1 - 1.5 * IQR\n",
        "upper_bound = Q3 + 1.5 * IQR\n",
        "\n",
        "# Cap the outliers\n",
        "df['transaction_amount'] = np.where(df['transaction_amount'] > upper_bound, upper_bound, df['transaction_amount'])\n",
        "df['transaction_amount'] = np.where(df['transaction_amount'] < lower_bound, lower_bound, df['transaction_amount'])\n",
        "print(\"After capping outliers:\\n\", df)"
      ],
      "metadata": {
        "colab": {
          "base_uri": "https://localhost:8080/"
        },
        "id": "G0Ye7NAzsHSj",
        "outputId": "953fb380-45a7-4c04-b752-102973f1909a"
      },
      "execution_count": 18,
      "outputs": [
        {
          "output_type": "stream",
          "name": "stdout",
          "text": [
            "After capping outliers:\n",
            "    transaction_id   age  transaction_amount\n",
            "0               1  25.0               100.0\n",
            "1               2   NaN               250.0\n",
            "2               3  32.0               500.0\n",
            "3               4  45.0                75.0\n",
            "4               5   NaN              1100.0\n"
          ]
        }
      ]
    },
    {
      "cell_type": "markdown",
      "source": [
        "3. **Addressing Class Imbalance (Fraud vs. Non-Fraud)**\n",
        "\n",
        "    A highly imbalanced dataset can lead to a model that is very good at predicting the majority class but poor at predicting the minority class (fraud).\n",
        "\n",
        "    Techniques: I would use a sampling technique to balance the dataset.\n",
        "\n",
        "    1. Oversampling: I'd duplicate examples from the minority class to increase its representation. SMOTE (Synthetic Minority Over-sampling Technique) is a powerful method that generates synthetic data points rather than simply duplicating existing ones, which can reduce overfitting.\n",
        "\n",
        "    2. Undersampling: I'd remove examples from the majority class to make its count equal to the minority class. This can lead to a loss of valuable information.\n",
        "\n",
        "    3. Hybrid: A combination of both oversampling and undersampling is also an effective strategy.\n",
        "\n",
        "\n",
        "**Python Code:-**"
      ],
      "metadata": {
        "id": "jKVTMJqTtDZj"
      }
    },
    {
      "cell_type": "code",
      "source": [
        "#3. Addressing Class Imbalance (Fraud vs. Non-Fraud)\n",
        "\n",
        "from imblearn.over_sampling import SMOTE\n",
        "from collections import Counter\n",
        "import pandas as pd\n",
        "import numpy as np # Import numpy\n",
        "from sklearn.model_selection import train_test_split\n",
        "\n",
        "# Sample data with imbalanced classes\n",
        "data = {'transaction_id': range(100),\n",
        "        'transaction_amount': np.random.rand(100),\n",
        "        'is_fraud': [0] * 95 + [1] * 5}\n",
        "df = pd.DataFrame(data)\n",
        "\n",
        "X = df.drop('is_fraud', axis=1)\n",
        "y = df['is_fraud']\n",
        "print(f\"Original class distribution: {Counter(y)}\")\n",
        "\n",
        "# Apply SMOTE\n",
        "# Set k_neighbors to be less than or equal to the number of samples in the minority class\n",
        "smote = SMOTE(random_state=42, k_neighbors=2)\n",
        "X_res, y_res = smote.fit_resample(X, y)\n",
        "print(f\"Resampled class distribution: {Counter(y_res)}\")"
      ],
      "metadata": {
        "colab": {
          "base_uri": "https://localhost:8080/"
        },
        "id": "Ae1Rf2y2tCeb",
        "outputId": "5978ed7f-591b-4fc8-eed5-287ca29b6573"
      },
      "execution_count": 20,
      "outputs": [
        {
          "output_type": "stream",
          "name": "stdout",
          "text": [
            "Original class distribution: Counter({0: 95, 1: 5})\n",
            "Resampled class distribution: Counter({0: 95, 1: 95})\n"
          ]
        }
      ]
    },
    {
      "cell_type": "markdown",
      "source": [
        "4. **Encoding Categorical Variables (Payment Method)**\n",
        "\n",
        "    Machine learning models require numerical input, so categorical variables must be converted.\n",
        "\n",
        "    Approach: The best encoding method depends on the nature of the categorical variable.\n",
        "\n",
        "    1. One-Hot Encoding: I'd use this for nominal variables where there's no inherent order (e.g., 'payment_method' like 'Credit Card', 'Debit Card', 'Cash'). It creates a new binary column for each category. This is generally the safest approach.\n",
        "\n",
        "    2. Label Encoding: This is suitable for ordinal variables where there is a clear order (e.g., 'low', 'medium', 'high'). It assigns an integer to each category. Using this on non-ordinal data can mislead the model by implying an incorrect hierarchical relationship.\n",
        "\n",
        "**Python Code:-**"
      ],
      "metadata": {
        "id": "j7XX9IS5tvNV"
      }
    },
    {
      "cell_type": "code",
      "source": [
        "# 4. Encoding Categorical Variables (Payment Method)\n",
        "\n",
        "import pandas as pd\n",
        "from sklearn.preprocessing import OneHotEncoder\n",
        "\n",
        "# Sample Data\n",
        "data = {'transaction_id': [1, 2, 3, 4],\n",
        "        'payment_method': ['Credit Card', 'Debit Card', 'Credit Card', 'Cash']}\n",
        "df = pd.DataFrame(data)\n",
        "\n",
        "# Apply One-Hot Encoding\n",
        "one_hot_encoded_df = pd.get_dummies(df, columns=['payment_method'], prefix='payment')\n",
        "print(\"After One-Hot Encoding:\\n\", one_hot_encoded_df)"
      ],
      "metadata": {
        "colab": {
          "base_uri": "https://localhost:8080/"
        },
        "id": "AI9w1EoytlTM",
        "outputId": "e9d45af6-dd4b-4870-9049-8216f558fee3"
      },
      "execution_count": 21,
      "outputs": [
        {
          "output_type": "stream",
          "name": "stdout",
          "text": [
            "After One-Hot Encoding:\n",
            "    transaction_id  payment_Cash  payment_Credit Card  payment_Debit Card\n",
            "0               1         False                 True               False\n",
            "1               2         False                False                True\n",
            "2               3         False                 True               False\n",
            "3               4          True                False               False\n"
          ]
        }
      ]
    },
    {
      "cell_type": "code",
      "source": [],
      "metadata": {
        "id": "bYZKfkP9ujz8"
      },
      "execution_count": null,
      "outputs": []
    }
  ]
}